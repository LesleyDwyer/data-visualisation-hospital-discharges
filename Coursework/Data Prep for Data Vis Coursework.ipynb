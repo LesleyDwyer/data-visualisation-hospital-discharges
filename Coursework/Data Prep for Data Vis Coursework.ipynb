{
 "cells": [
  {
   "cell_type": "markdown",
   "metadata": {},
   "source": [
    "# Data preparation for Data Visualization Coursework\n",
    "\n",
    "Below I prepare data to be used for building data visualizations in LitVis (Atom + Elm + VegaLite). The visualizations are to answer these research questions:\n",
    "\n",
    "What trends or patterns can be found for different patient groups discharged from New York hospitals? More specifically: <br>\n",
    "  1) How are patients in different age groups admitted to hospitals? <br>\n",
    "  2) What trends can be seen for age groups and diagnoses? <br>\n",
    "  3) What does the length of stay look like for different age groups? <br>\n",
    "  4) How do charges and payment type vary by age group? <br>"
   ]
  },
  {
   "cell_type": "markdown",
   "metadata": {},
   "source": [
    "## Import libraries and data"
   ]
  },
  {
   "cell_type": "code",
   "execution_count": 1,
   "metadata": {},
   "outputs": [],
   "source": [
    "# Import libraries\n",
    "import pandas as pd\n",
    "import numpy as np"
   ]
  },
  {
   "cell_type": "code",
   "execution_count": 2,
   "metadata": {},
   "outputs": [],
   "source": [
    "# Import full dataset\n",
    "ny_hospital_df = pd.read_csv('NYSDOH_Hospital_Inpatient_Discharges_SPARCS_De-Identified_2016.csv', low_memory=False);"
   ]
  },
  {
   "cell_type": "markdown",
   "metadata": {},
   "source": [
    "## Data analysis and cleanup"
   ]
  },
  {
   "cell_type": "code",
   "execution_count": 3,
   "metadata": {},
   "outputs": [
    {
     "data": {
      "text/html": [
       "<div>\n",
       "<style scoped>\n",
       "    .dataframe tbody tr th:only-of-type {\n",
       "        vertical-align: middle;\n",
       "    }\n",
       "\n",
       "    .dataframe tbody tr th {\n",
       "        vertical-align: top;\n",
       "    }\n",
       "\n",
       "    .dataframe thead th {\n",
       "        text-align: right;\n",
       "    }\n",
       "</style>\n",
       "<table border=\"1\" class=\"dataframe\">\n",
       "  <thead>\n",
       "    <tr style=\"text-align: right;\">\n",
       "      <th></th>\n",
       "      <th>Operating Certificate Number</th>\n",
       "      <th>Permanent Facility Id</th>\n",
       "      <th>Discharge Year</th>\n",
       "      <th>CCS Diagnosis Code</th>\n",
       "      <th>CCS Procedure Code</th>\n",
       "      <th>APR DRG Code</th>\n",
       "      <th>APR MDC Code</th>\n",
       "      <th>APR Severity of Illness Code</th>\n",
       "      <th>Attending Provider License Number</th>\n",
       "      <th>Operating Provider License Number</th>\n",
       "      <th>Other Provider License Number</th>\n",
       "      <th>Birth Weight</th>\n",
       "      <th>Ratio of Total Costs to Total Charges</th>\n",
       "    </tr>\n",
       "  </thead>\n",
       "  <tbody>\n",
       "    <tr>\n",
       "      <th>count</th>\n",
       "      <td>2.342436e+06</td>\n",
       "      <td>2.342436e+06</td>\n",
       "      <td>2343429.0</td>\n",
       "      <td>2.343429e+06</td>\n",
       "      <td>2.343429e+06</td>\n",
       "      <td>2.343429e+06</td>\n",
       "      <td>2.343429e+06</td>\n",
       "      <td>2.343429e+06</td>\n",
       "      <td>2.342436e+06</td>\n",
       "      <td>1.645600e+06</td>\n",
       "      <td>6.308600e+04</td>\n",
       "      <td>2.343429e+06</td>\n",
       "      <td>2.343429e+06</td>\n",
       "    </tr>\n",
       "    <tr>\n",
       "      <th>mean</th>\n",
       "      <td>4.989866e+06</td>\n",
       "      <td>1.040432e+03</td>\n",
       "      <td>2016.0</td>\n",
       "      <td>1.906030e+02</td>\n",
       "      <td>1.046221e+02</td>\n",
       "      <td>4.165046e+02</td>\n",
       "      <td>1.032289e+01</td>\n",
       "      <td>2.024331e+00</td>\n",
       "      <td>2.177624e+06</td>\n",
       "      <td>2.513368e+06</td>\n",
       "      <td>1.294506e+07</td>\n",
       "      <td>3.231229e+02</td>\n",
       "      <td>3.834693e-01</td>\n",
       "    </tr>\n",
       "    <tr>\n",
       "      <th>std</th>\n",
       "      <td>2.265697e+06</td>\n",
       "      <td>7.182770e+02</td>\n",
       "      <td>0.0</td>\n",
       "      <td>1.613759e+02</td>\n",
       "      <td>8.958427e+01</td>\n",
       "      <td>2.425629e+02</td>\n",
       "      <td>5.898533e+00</td>\n",
       "      <td>9.025603e-01</td>\n",
       "      <td>1.218025e+07</td>\n",
       "      <td>1.284726e+07</td>\n",
       "      <td>3.014827e+07</td>\n",
       "      <td>9.945188e+02</td>\n",
       "      <td>1.922614e-01</td>\n",
       "    </tr>\n",
       "    <tr>\n",
       "      <th>min</th>\n",
       "      <td>1.010000e+05</td>\n",
       "      <td>1.000000e+00</td>\n",
       "      <td>2016.0</td>\n",
       "      <td>1.000000e+00</td>\n",
       "      <td>0.000000e+00</td>\n",
       "      <td>1.000000e+00</td>\n",
       "      <td>0.000000e+00</td>\n",
       "      <td>0.000000e+00</td>\n",
       "      <td>1.380000e+02</td>\n",
       "      <td>1.380000e+02</td>\n",
       "      <td>3.107000e+03</td>\n",
       "      <td>0.000000e+00</td>\n",
       "      <td>7.138140e-03</td>\n",
       "    </tr>\n",
       "    <tr>\n",
       "      <th>25%</th>\n",
       "      <td>2.951001e+06</td>\n",
       "      <td>5.410000e+02</td>\n",
       "      <td>2016.0</td>\n",
       "      <td>1.050000e+02</td>\n",
       "      <td>0.000000e+00</td>\n",
       "      <td>1.980000e+02</td>\n",
       "      <td>5.000000e+00</td>\n",
       "      <td>1.000000e+00</td>\n",
       "      <td>1.961690e+05</td>\n",
       "      <td>1.890580e+05</td>\n",
       "      <td>1.838300e+05</td>\n",
       "      <td>0.000000e+00</td>\n",
       "      <td>2.613828e-01</td>\n",
       "    </tr>\n",
       "    <tr>\n",
       "      <th>50%</th>\n",
       "      <td>5.907001e+06</td>\n",
       "      <td>1.097000e+03</td>\n",
       "      <td>2016.0</td>\n",
       "      <td>1.570000e+02</td>\n",
       "      <td>1.080000e+02</td>\n",
       "      <td>3.830000e+02</td>\n",
       "      <td>9.000000e+00</td>\n",
       "      <td>2.000000e+00</td>\n",
       "      <td>2.338830e+05</td>\n",
       "      <td>2.282230e+05</td>\n",
       "      <td>2.285240e+05</td>\n",
       "      <td>0.000000e+00</td>\n",
       "      <td>3.440655e-01</td>\n",
       "    </tr>\n",
       "    <tr>\n",
       "      <th>75%</th>\n",
       "      <td>7.002017e+06</td>\n",
       "      <td>1.450000e+03</td>\n",
       "      <td>2016.0</td>\n",
       "      <td>2.180000e+02</td>\n",
       "      <td>1.980000e+02</td>\n",
       "      <td>6.400000e+02</td>\n",
       "      <td>1.500000e+01</td>\n",
       "      <td>3.000000e+00</td>\n",
       "      <td>2.625870e+05</td>\n",
       "      <td>2.585840e+05</td>\n",
       "      <td>2.665550e+05</td>\n",
       "      <td>0.000000e+00</td>\n",
       "      <td>4.779192e-01</td>\n",
       "    </tr>\n",
       "    <tr>\n",
       "      <th>max</th>\n",
       "      <td>7.004010e+06</td>\n",
       "      <td>9.431000e+03</td>\n",
       "      <td>2016.0</td>\n",
       "      <td>9.990000e+02</td>\n",
       "      <td>9.990000e+02</td>\n",
       "      <td>9.560000e+02</td>\n",
       "      <td>2.500000e+01</td>\n",
       "      <td>4.000000e+00</td>\n",
       "      <td>9.100000e+07</td>\n",
       "      <td>9.100000e+07</td>\n",
       "      <td>9.061757e+07</td>\n",
       "      <td>9.900000e+03</td>\n",
       "      <td>1.371600e+01</td>\n",
       "    </tr>\n",
       "  </tbody>\n",
       "</table>\n",
       "</div>"
      ],
      "text/plain": [
       "       Operating Certificate Number  Permanent Facility Id  Discharge Year  \\\n",
       "count                  2.342436e+06           2.342436e+06       2343429.0   \n",
       "mean                   4.989866e+06           1.040432e+03          2016.0   \n",
       "std                    2.265697e+06           7.182770e+02             0.0   \n",
       "min                    1.010000e+05           1.000000e+00          2016.0   \n",
       "25%                    2.951001e+06           5.410000e+02          2016.0   \n",
       "50%                    5.907001e+06           1.097000e+03          2016.0   \n",
       "75%                    7.002017e+06           1.450000e+03          2016.0   \n",
       "max                    7.004010e+06           9.431000e+03          2016.0   \n",
       "\n",
       "       CCS Diagnosis Code  CCS Procedure Code  APR DRG Code  APR MDC Code  \\\n",
       "count        2.343429e+06        2.343429e+06  2.343429e+06  2.343429e+06   \n",
       "mean         1.906030e+02        1.046221e+02  4.165046e+02  1.032289e+01   \n",
       "std          1.613759e+02        8.958427e+01  2.425629e+02  5.898533e+00   \n",
       "min          1.000000e+00        0.000000e+00  1.000000e+00  0.000000e+00   \n",
       "25%          1.050000e+02        0.000000e+00  1.980000e+02  5.000000e+00   \n",
       "50%          1.570000e+02        1.080000e+02  3.830000e+02  9.000000e+00   \n",
       "75%          2.180000e+02        1.980000e+02  6.400000e+02  1.500000e+01   \n",
       "max          9.990000e+02        9.990000e+02  9.560000e+02  2.500000e+01   \n",
       "\n",
       "       APR Severity of Illness Code  Attending Provider License Number  \\\n",
       "count                  2.343429e+06                       2.342436e+06   \n",
       "mean                   2.024331e+00                       2.177624e+06   \n",
       "std                    9.025603e-01                       1.218025e+07   \n",
       "min                    0.000000e+00                       1.380000e+02   \n",
       "25%                    1.000000e+00                       1.961690e+05   \n",
       "50%                    2.000000e+00                       2.338830e+05   \n",
       "75%                    3.000000e+00                       2.625870e+05   \n",
       "max                    4.000000e+00                       9.100000e+07   \n",
       "\n",
       "       Operating Provider License Number  Other Provider License Number  \\\n",
       "count                       1.645600e+06                   6.308600e+04   \n",
       "mean                        2.513368e+06                   1.294506e+07   \n",
       "std                         1.284726e+07                   3.014827e+07   \n",
       "min                         1.380000e+02                   3.107000e+03   \n",
       "25%                         1.890580e+05                   1.838300e+05   \n",
       "50%                         2.282230e+05                   2.285240e+05   \n",
       "75%                         2.585840e+05                   2.665550e+05   \n",
       "max                         9.100000e+07                   9.061757e+07   \n",
       "\n",
       "       Birth Weight  Ratio of Total Costs to Total Charges  \n",
       "count  2.343429e+06                           2.343429e+06  \n",
       "mean   3.231229e+02                           3.834693e-01  \n",
       "std    9.945188e+02                           1.922614e-01  \n",
       "min    0.000000e+00                           7.138140e-03  \n",
       "25%    0.000000e+00                           2.613828e-01  \n",
       "50%    0.000000e+00                           3.440655e-01  \n",
       "75%    0.000000e+00                           4.779192e-01  \n",
       "max    9.900000e+03                           1.371600e+01  "
      ]
     },
     "execution_count": 3,
     "metadata": {},
     "output_type": "execute_result"
    }
   ],
   "source": [
    "# Get overview of data - full dataset has 2.3M rows\n",
    "ny_hospital_df.describe()"
   ]
  },
  {
   "cell_type": "code",
   "execution_count": 4,
   "metadata": {},
   "outputs": [
    {
     "data": {
      "text/plain": [
       "Hospital Service Area                        993\n",
       "Hospital County                              993\n",
       "Operating Certificate Number                 993\n",
       "Permanent Facility Id                        993\n",
       "Facility Name                                  0\n",
       "Age Group                                      0\n",
       "Zip Code - 3 digits                         2430\n",
       "Gender                                         0\n",
       "Race                                           0\n",
       "Ethnicity                                      0\n",
       "Length of Stay                                 0\n",
       "Type of Admission                              0\n",
       "Patient Disposition                            0\n",
       "Discharge Year                                 0\n",
       "CCS Diagnosis Code                             0\n",
       "CCS Diagnosis Description                      0\n",
       "CCS Procedure Code                             0\n",
       "CCS Procedure Description                      0\n",
       "APR DRG Code                                   0\n",
       "APR DRG Description                            0\n",
       "APR MDC Code                                   0\n",
       "APR MDC Description                            0\n",
       "APR Severity of Illness Code                   0\n",
       "APR Severity of Illness Description           67\n",
       "APR Risk of Mortality                         67\n",
       "APR Medical Surgical Description               0\n",
       "Payment Typology 1                             0\n",
       "Payment Typology 2                        834420\n",
       "Payment Typology 3                       1691076\n",
       "Attending Provider License Number            993\n",
       "Operating Provider License Number         697829\n",
       "Other Provider License Number            2280343\n",
       "Birth Weight                                   0\n",
       "Abortion Edit Indicator                        0\n",
       "Emergency Department Indicator                 0\n",
       "Total Charges                                  0\n",
       "Total Costs                                    0\n",
       "Ratio of Total Costs to Total Charges          0\n",
       "dtype: int64"
      ]
     },
     "execution_count": 4,
     "metadata": {},
     "output_type": "execute_result"
    }
   ],
   "source": [
    "# check columns with NAs\n",
    "ny_hospital_df.isna().sum()"
   ]
  },
  {
   "cell_type": "code",
   "execution_count": 5,
   "metadata": {},
   "outputs": [],
   "source": [
    "# reame columns for usability\n",
    "ny_hospital_df.rename(columns={'Hospital County':'countyName', 'Hospital Service Area':'serviceArea', \n",
    "                               'APR MDC Description':'MDC', 'Age Group':'ageGroup',\n",
    "                              'Facility Name':'hospital', 'Length of Stay':'LOS',\n",
    "                               'Type of Admission':'admissionType', 'APR Severity of Illness Code':'severity',\n",
    "                              'Payment Typology 1':'payment1', 'Total Charges':'charges'}, inplace=True);"
   ]
  },
  {
   "cell_type": "code",
   "execution_count": 6,
   "metadata": {},
   "outputs": [
    {
     "data": {
      "text/plain": [
       "array(['Cuba Memorial Hospital Inc',\n",
       "       'Memorial Hosp of Wm F & Gertrude F Jones A/K/A Jones Memorial Hosp',\n",
       "       'Olean General Hospital', 'Brooks Memorial Hospital',\n",
       "       'Abortion Record - Facility Name Redacted',\n",
       "       'Womans Christian Assoc Hospital - WCA Hosp at Jones Memorial Health Ce',\n",
       "       \"Woman's Christian Association\", 'Westfield Memorial Hospital Inc',\n",
       "       'TLC Health Network Lake Shore Hospital',\n",
       "       'Buffalo General Hospital',\n",
       "       \"Women And Children's Hospital Of Buffalo\",\n",
       "       'Erie County Medical Center', 'Mercy Hospital of Buffalo',\n",
       "       'Roswell Park Cancer Institute', 'Sisters of Charity Hospital',\n",
       "       'Kenmore Mercy Hospital', 'Bertrand Chaffee Hospital',\n",
       "       'Sisters of Charity Hospital - St Joseph Campus',\n",
       "       'United Memorial Medical Center North Street Campus',\n",
       "       'United Memorial Medical Center Bank Street Campus',\n",
       "       'Eastern Niagara Hospital - Lockport Division',\n",
       "       'Niagara Falls Memorial Medical Center',\n",
       "       'Degraff Memorial Hospital',\n",
       "       'Mount St Marys Hospital and Health Center',\n",
       "       'Medina Memorial Hospital', 'Wyoming County Community Hospital',\n",
       "       'Millard Fillmore Suburban Hospital',\n",
       "       \"St. Peter's Addiction Recovery Center\",\n",
       "       'Arnot Ogden Medical Center', 'St Josephs Hospital',\n",
       "       'Nicholas H Noyes Memorial Hospital', 'Highland Hospital',\n",
       "       'Rochester General Hospital',\n",
       "       'The Unity Hospital of Rochester-St Marys Campus',\n",
       "       'Strong Memorial Hospital', 'Monroe Community Hospital',\n",
       "       'The Unity Hospital of Rochester', 'Geneva General Hospital',\n",
       "       'Clifton Springs Hospital and Clinic', 'F F Thompson Hospital',\n",
       "       'Schuyler Hospital', 'Corning Hospital', 'St James Mercy Hospital',\n",
       "       'Ira Davenport Memorial Hospital Inc',\n",
       "       'Newark-Wayne Community Hospital',\n",
       "       'Soldiers and Sailors Memorial Hospital of Yates County Inc',\n",
       "       'Oswego Hospital - Alvin L Krakau Comm Mtl Health Center Div',\n",
       "       'United Health Services Hospitals Inc. - Binghamton General Hospital',\n",
       "       'Our Lady of Lourdes Memorial Hospital Inc',\n",
       "       'United Health Services Hospitals Inc. - Wilson Medical Center',\n",
       "       'Auburn Memorial Hospital', 'Chenango Memorial Hospital Inc',\n",
       "       'Cortland Regional Medical Center Inc', 'Little Falls Hospital',\n",
       "       'Samaritan Medical Center', 'River Hospital, Inc.',\n",
       "       'Carthage Area Hospital Inc', 'Lewis County General Hospital',\n",
       "       'Oneida Healthcare Center', 'Community Memorial Hospital Inc',\n",
       "       'Rome Memorial Hospital, Inc', 'St Elizabeth Medical Center',\n",
       "       'Faxton-St Lukes Healthcare St Lukes Division',\n",
       "       'UPSTATE University Hospital at Community General',\n",
       "       'St Josephs Hospital Health Center',\n",
       "       'University Hospital SUNY Health Science Center',\n",
       "       'Crouse Hospital', 'Oswego Hospital',\n",
       "       'Claxton-Hepburn Medical Center', 'Massena Memorial Hospital',\n",
       "       'Gouverneur Hospital', 'Canton-Potsdam Hospital',\n",
       "       'Clifton-Fine Hospital', 'Cayuga Medical Center at Ithaca',\n",
       "       'Crouse Hospital - Commonwealth Division',\n",
       "       'Albany Medical Center Hospital',\n",
       "       'Albany Medical Center - South Clinical Campus',\n",
       "       'Albany Memorial Hospital', 'St Peters Hospital',\n",
       "       'The University of Vermont Health Network - Champlain Valley Physicians',\n",
       "       'Columbia Memorial Hospital', \"O'Connor Hospital\",\n",
       "       'Margaretville Hospital', 'Delaware Valley Hospital Inc',\n",
       "       'The University of Vermont Health Network - Elizabethtown Community Hos',\n",
       "       'Moses-Ludington Hospital',\n",
       "       'Adirondack Medical Center-Saranac Lake Site',\n",
       "       'Alice Hyde Medical Center', 'Nathan Littauer Hospital',\n",
       "       \"St. Mary's Healthcare - Amsterdam Memorial Campus\",\n",
       "       \"St. Mary's Healthcare\", 'Aurelia Osborn Fox Memorial Hospital',\n",
       "       'Mary Imogene Bassett Hospital',\n",
       "       'Seton Health System - St Marys Campus', 'Samaritan Hospital',\n",
       "       'Saratoga Hospital', 'Ellis Hospital',\n",
       "       'Sunnyview Hospital and Rehabilitation Center',\n",
       "       \"Ellis Hospital - Bellevue Woman's Care Center Division\",\n",
       "       'Cobleskill Regional Hospital', 'Glens Falls Hospital',\n",
       "       'The Burdett Care Center',\n",
       "       'Mid-Hudson Valley Division of Westchester Medical Center',\n",
       "       'Vassar Brothers Medical Center', 'Northern Dutchess Hospital',\n",
       "       \"St Luke's Cornwall Hospital/Newburgh\",\n",
       "       'Orange Regional Medical Center-Goshen Campus',\n",
       "       'St Anthony Community Hospital', 'Bon Secours Community Hospital',\n",
       "       'Putnam Hospital Center', 'Helen Hayes Hospital', 'Nyack Hospital',\n",
       "       'Good Samaritan Hospital of Suffern',\n",
       "       'Catskill Regional Medical Center - G. Hermann Site',\n",
       "       'Catskill Regional Medical Center',\n",
       "       'HealthAlliance Hospital Marys Avenue Campus',\n",
       "       'HealthAlliance Hospital Broadway Campus',\n",
       "       'Ellenville Regional Hospital',\n",
       "       'NewYork-Presbyterian/Hudson Valley Hospital',\n",
       "       'White Plains Hospital Center',\n",
       "       'Winifred Masterson Burke Rehabilitation Hospital',\n",
       "       'New York Presbyterian Hospital - Westchester Division',\n",
       "       'Montefiore Mount Vernon Hospital',\n",
       "       'Montefiore New Rochelle Hospital', 'SJRH - St Johns Division',\n",
       "       \"St Joseph's Medical Center\", 'SJRH - Park Care Pavilion',\n",
       "       'Northern Westchester Hospital',\n",
       "       'New York-Presbyterian/Lawrence Hospital',\n",
       "       'SJRH - Dobbs Ferry Pavillion', 'Phelps Memorial Hospital Assn',\n",
       "       \"St Joseph's MC-St Vincents Westchester Division\",\n",
       "       'Blythedale Childrens Hospital', 'Westchester Medical Center',\n",
       "       'Bronx-Lebanon Hospital Center - Fulton Division',\n",
       "       'Jacobi Medical Center',\n",
       "       'Montefiore Medical Center-Wakefield Hospital',\n",
       "       'Montefiore Medical Center - Henry & Lucy Moses Div',\n",
       "       'Lincoln Medical & Mental Health Center', 'Calvary Hospital Inc',\n",
       "       'SBH Health System',\n",
       "       'Bronx-Lebanon Hospital Center - Concourse Division',\n",
       "       'North Central Bronx Hospital',\n",
       "       'Montefiore Med Center - Jack D Weiler Hosp of A Einstein College Div',\n",
       "       'Brookdale Hospital Medical Center',\n",
       "       'Brooklyn Hospital Center - Downtown Campus',\n",
       "       'New York Community Hospital of Brooklyn, Inc',\n",
       "       'Coney Island Hospital', 'Kings County Hospital Center',\n",
       "       'NYU Lutheran Medical Center', 'Maimonides Medical Center',\n",
       "       'NewYork-Presbyterian Brooklyn Methodist Hospital',\n",
       "       'Interfaith Medical Center', 'Kingsbrook Jewish Medical Center',\n",
       "       'Wyckoff Heights Medical Center',\n",
       "       'University Hospital of Brooklyn',\n",
       "       'Mount Sinai Beth Israel Brooklyn',\n",
       "       'Woodhull Medical & Mental Health Center',\n",
       "       'New York-Presbyterian/Lower Manhattan Hospital',\n",
       "       'Bellevue Hospital Center', 'Mount Sinai Beth Israel',\n",
       "       'Harlem Hospital Center', 'NYU Hospital for Joint Diseases',\n",
       "       'Hospital for Special Surgery', 'Lenox Hill Hospital',\n",
       "       'Memorial Hospital for Cancer and Allied Diseases',\n",
       "       'Henry J. Carter Specialty Hospital',\n",
       "       'Metropolitan Hospital Center', 'Mount Sinai Hospital',\n",
       "       'New York Presbyterian Hospital - New York Weill Cornell Center',\n",
       "       'New York Eye and Ear Infirmary of Mount Sinai',\n",
       "       'NYU Hospitals Center',\n",
       "       'New York Presbyterian Hospital - Columbia Presbyterian Center',\n",
       "       'Mount Sinai Roosevelt', 'Mount Sinai St. Lukes',\n",
       "       'New York Presbyterian Hospital - Allen Hospital',\n",
       "       'RUMC-Bayley Seton', 'Elmhurst Hospital Center',\n",
       "       'Flushing Hospital Medical Center',\n",
       "       'Jamaica Hospital Medical Center',\n",
       "       'Long Island Jewish Medical Center', 'Queens Hospital Center',\n",
       "       'St Johns Episcopal Hospital So Shore',\n",
       "       'New York Hospital Medical Center of Queens',\n",
       "       'Long Island Jewish Forest Hills',\n",
       "       'Mount Sinai Hospital - Mount Sinai Hospital of Queens',\n",
       "       'Staten Island University Hosp-South',\n",
       "       'Richmond University Medical Center',\n",
       "       'Staten Island University Hosp-North',\n",
       "       \"Long Island Jewish Schneiders Children's Hospital Division\",\n",
       "       'University Hospital', 'Glen Cove Hospital',\n",
       "       'Winthrop-University Hospital', 'Mercy Medical Center',\n",
       "       'Long Island Jewish Valley Stream',\n",
       "       'South Nassau Communities Hospital',\n",
       "       'Nassau University Medical Center',\n",
       "       'North Shore University Hospital', 'Syosset Hospital',\n",
       "       'St. Joseph Hospital', 'Plainview Hospital', 'St Francis Hospital',\n",
       "       'Brookhaven Memorial Hospital Medical Center Inc',\n",
       "       'Southampton Hospital', 'Eastern Long Island Hospital',\n",
       "       'John T Mather Memorial Hospital of Port Jefferson New York Inc',\n",
       "       'St Charles Hospital', 'Huntington Hospital', 'Southside Hospital',\n",
       "       'Good Samaritan Hospital Medical Center',\n",
       "       'Peconic Bay Medical Center', 'St Catherine of Siena Hospital'],\n",
       "      dtype=object)"
      ]
     },
     "execution_count": 6,
     "metadata": {},
     "output_type": "execute_result"
    }
   ],
   "source": [
    "# check unique hospitals\n",
    "ny_hospital_df.hospital.unique()"
   ]
  },
  {
   "cell_type": "code",
   "execution_count": 7,
   "metadata": {},
   "outputs": [
    {
     "data": {
      "text/plain": [
       "array(['Allegany', 'Cattaraugus', 'Chautauqua', nan, 'Erie', 'Genesee',\n",
       "       'Niagara', 'Orleans', 'Wyoming', 'Albany', 'Chemung', 'Livingston',\n",
       "       'Monroe', 'Ontario', 'Schuyler', 'Steuben', 'Wayne', 'Yates',\n",
       "       'Oswego', 'Broome', 'Cayuga', 'Chenango', 'Cortland', 'Herkimer',\n",
       "       'Jefferson', 'Lewis', 'Madison', 'Oneida', 'Onondaga',\n",
       "       'St Lawrence', 'Tompkins', 'Clinton', 'Columbia', 'Delaware',\n",
       "       'Essex', 'Franklin', 'Fulton', 'Montgomery', 'Otsego',\n",
       "       'Rensselaer', 'Saratoga', 'Schenectady', 'Schoharie', 'Warren',\n",
       "       'Dutchess', 'Orange', 'Putnam', 'Rockland', 'Sullivan', 'Ulster',\n",
       "       'Westchester', 'Bronx', 'Kings', 'Manhattan', 'Richmond', 'Queens',\n",
       "       'Suffolk', 'Nassau'], dtype=object)"
      ]
     },
     "execution_count": 7,
     "metadata": {},
     "output_type": "execute_result"
    }
   ],
   "source": [
    "# check unique county names\n",
    "ny_hospital_df.countyName.unique()"
   ]
  },
  {
   "cell_type": "code",
   "execution_count": 8,
   "metadata": {},
   "outputs": [
    {
     "data": {
      "text/plain": [
       "array(['Western NY', nan, 'Capital/Adiron', 'Finger Lakes', 'Central NY',\n",
       "       'Southern Tier', 'Hudson Valley', 'New York City', 'Long Island'],\n",
       "      dtype=object)"
      ]
     },
     "execution_count": 8,
     "metadata": {},
     "output_type": "execute_result"
    }
   ],
   "source": [
    "# check unique hospital service areas\n",
    "ny_hospital_df.serviceArea.unique()"
   ]
  },
  {
   "cell_type": "code",
   "execution_count": 9,
   "metadata": {},
   "outputs": [
    {
     "data": {
      "text/plain": [
       "array(['3', '2', '7', '4', '5', '1', '9', '6', '27', '10', '21', '12',\n",
       "       '8', '13', '20', '17', '16', '11', '14', '19', '18', '15', '22',\n",
       "       '26', '36', '30', '25', '24', '33', '63', '29', '31', '44', '42',\n",
       "       '32', '28', '41', '23', '43', '35', '65', '71', '37', '39',\n",
       "       '120 +', '59', '54', '61', '34', '45', '48', '108', '90', '55',\n",
       "       '73', '52', '38', '46', '57', '104', '111', '53', '47', '49', '60',\n",
       "       '62', '69', '40', '83', '58', '78', '118', '117', '94', '80', '75',\n",
       "       '51', '64', '112', '107', '72', '103', '66', '85', '82', '102',\n",
       "       '99', '77', '86', '56', '50', '79', '70', '68', '98', '91', '67',\n",
       "       '105', '81', '114', '88', '93', '101', '97', '76', '92', '106',\n",
       "       '116', '109', '119', '87', '89', '84', '74', '96', '95', '110',\n",
       "       '115', '100', '113'], dtype=object)"
      ]
     },
     "execution_count": 9,
     "metadata": {},
     "output_type": "execute_result"
    }
   ],
   "source": [
    "# check unique length of stay\n",
    "ny_hospital_df.LOS.unique()"
   ]
  },
  {
   "cell_type": "code",
   "execution_count": 10,
   "metadata": {},
   "outputs": [
    {
     "data": {
      "text/plain": [
       "array(['Urgent', 'Elective', 'Emergency', 'Newborn', 'Not Available',\n",
       "       'Trauma'], dtype=object)"
      ]
     },
     "execution_count": 10,
     "metadata": {},
     "output_type": "execute_result"
    }
   ],
   "source": [
    "# check unique admission types\n",
    "ny_hospital_df.admissionType.unique()"
   ]
  },
  {
   "cell_type": "code",
   "execution_count": 11,
   "metadata": {},
   "outputs": [
    {
     "data": {
      "text/plain": [
       "array([2, 1, 3, 4, 0], dtype=int64)"
      ]
     },
     "execution_count": 11,
     "metadata": {},
     "output_type": "execute_result"
    }
   ],
   "source": [
    "# check unique illness severity\n",
    "ny_hospital_df.severity.unique()"
   ]
  },
  {
   "cell_type": "code",
   "execution_count": 12,
   "metadata": {},
   "outputs": [
    {
     "data": {
      "text/plain": [
       "array(['Not Span/Hispanic', 'Spanish/Hispanic', 'Unknown', 'Multi-ethnic'],\n",
       "      dtype=object)"
      ]
     },
     "execution_count": 12,
     "metadata": {},
     "output_type": "execute_result"
    }
   ],
   "source": [
    "# check unique ethnicity \n",
    "ny_hospital_df.Ethnicity.unique()"
   ]
  },
  {
   "cell_type": "code",
   "execution_count": 13,
   "metadata": {},
   "outputs": [
    {
     "data": {
      "text/plain": [
       "array(['White', 'Black/African American', 'Other Race', 'Multi-racial'],\n",
       "      dtype=object)"
      ]
     },
     "execution_count": 13,
     "metadata": {},
     "output_type": "execute_result"
    }
   ],
   "source": [
    "# check unique race \n",
    "ny_hospital_df.Race.unique()"
   ]
  },
  {
   "cell_type": "code",
   "execution_count": 14,
   "metadata": {},
   "outputs": [
    {
     "data": {
      "text/plain": [
       "array(['F', 'M', 'U'], dtype=object)"
      ]
     },
     "execution_count": 14,
     "metadata": {},
     "output_type": "execute_result"
    }
   ],
   "source": [
    "# check unique gender \n",
    "ny_hospital_df.Gender.unique()"
   ]
  },
  {
   "cell_type": "code",
   "execution_count": 15,
   "metadata": {},
   "outputs": [
    {
     "data": {
      "text/plain": [
       "array(['Diseases and Disorders of the Respiratory System',\n",
       "       'Diseases and Disorders of the Skin, Subcutaneous Tissue and Breast',\n",
       "       'Infectious and Parasitic Diseases, Systemic or Unspecified Sites',\n",
       "       'Rehabilitation, Aftercare, Other Factors Influencing Health Status and Other Health Service Contacts',\n",
       "       'Diseases and Disorders of the Digestive System',\n",
       "       'Endocrine, Nutritional and Metabolic Diseases and Disorders',\n",
       "       'Diseases and Disorders of the Kidney and Urinary Tract',\n",
       "       'Diseases and Disorders of the Nervous System',\n",
       "       'Diseases and Disorders of the Musculoskeletal System and Conn Tissue',\n",
       "       'Pregnancy, Childbirth and the Puerperium',\n",
       "       'Diseases and Disorders of the Circulatory System',\n",
       "       'Newborns and Other Neonates with Conditions Originating in the Perinatal Period',\n",
       "       'Diseases and Disorders of the Female Reproductive System',\n",
       "       'Diseases and Disorders of the Hepatobiliary System and Pancreas',\n",
       "       'Poisonings, Toxic Effects, Other Injuries and Other Complications of Treatment',\n",
       "       'Lymphatic, Hematopoietic, Other Malignancies, Chemotherapy and Radiotherapy',\n",
       "       'Alcohol/Drug Use and Alcohol/Drug Induced Organic Mental Disorders',\n",
       "       'Ear, Nose, Mouth, Throat and Craniofacial Diseases and Disorders',\n",
       "       'Mental Diseases and Disorders',\n",
       "       'Diseases and Disorders of Blood, Blood Forming Organs and Immunological Disorders',\n",
       "       'Diseases and Disorders of the Male Reproductive System',\n",
       "       'Multiple Significant Trauma', 'Burns',\n",
       "       'Diseases and Disorders of the Eye',\n",
       "       'Human Immunodeficiency Virus Infections',\n",
       "       'Pre-MDC or Ungroupable'], dtype=object)"
      ]
     },
     "execution_count": 15,
     "metadata": {},
     "output_type": "execute_result"
    }
   ],
   "source": [
    "# check unique Major Diagnostic Category\n",
    "ny_hospital_df.MDC.unique()"
   ]
  },
  {
   "cell_type": "code",
   "execution_count": 16,
   "metadata": {},
   "outputs": [],
   "source": [
    "# Impute missing values with Unknown\n",
    "ny_hospital_df.fillna(\"Unknown\", inplace=True)"
   ]
  },
  {
   "cell_type": "markdown",
   "metadata": {},
   "source": [
    "## Create aggregate dataframes and export to csv for use in litvis"
   ]
  },
  {
   "cell_type": "markdown",
   "metadata": {},
   "source": [
    "### 1) Admission Type and Age Group"
   ]
  },
  {
   "cell_type": "code",
   "execution_count": 17,
   "metadata": {},
   "outputs": [],
   "source": [
    "# create dataframe of just age group and type of admission\n",
    "age_admtype_df = ny_hospital_df.loc[:,['ageGroup', 'admissionType']];"
   ]
  },
  {
   "cell_type": "code",
   "execution_count": 18,
   "metadata": {},
   "outputs": [],
   "source": [
    "# Add index as id column\n",
    "age_admtype_df['id']=ny_hospital_df.index;"
   ]
  },
  {
   "cell_type": "code",
   "execution_count": 19,
   "metadata": {},
   "outputs": [],
   "source": [
    "# aggregate\n",
    "agg_age_adm = age_admtype_df.groupby(['ageGroup', 'admissionType'])['id'].size().reset_index()\n",
    "agg_age_adm.rename(columns={'id':'count'}, inplace=True);"
   ]
  },
  {
   "cell_type": "code",
   "execution_count": 20,
   "metadata": {},
   "outputs": [],
   "source": [
    "# export to .csv to laod into litvis\n",
    "agg_age_adm.to_csv('NY_Hospital_AdmType_Age.csv', index=False);"
   ]
  },
  {
   "cell_type": "markdown",
   "metadata": {},
   "source": [
    "### 2) Diagnosis and Age Group"
   ]
  },
  {
   "cell_type": "code",
   "execution_count": 21,
   "metadata": {},
   "outputs": [],
   "source": [
    "# create dataframe of just age group and diagnosis\n",
    "age_diag_df = ny_hospital_df.loc[:,['ageGroup', 'MDC']];"
   ]
  },
  {
   "cell_type": "code",
   "execution_count": 22,
   "metadata": {},
   "outputs": [],
   "source": [
    "# Add index as id column\n",
    "age_diag_df['id']=ny_hospital_df.index;"
   ]
  },
  {
   "cell_type": "code",
   "execution_count": 23,
   "metadata": {},
   "outputs": [],
   "source": [
    "# aggregate\n",
    "agg_age_diag = age_diag_df.groupby(['ageGroup', 'MDC'])['id'].size().reset_index()\n",
    "agg_age_diag.rename(columns={'id':'count'}, inplace=True);"
   ]
  },
  {
   "cell_type": "code",
   "execution_count": 24,
   "metadata": {},
   "outputs": [],
   "source": [
    "# remove some words for readability\n",
    "agg_age_diag.MDC.replace(\"Diseases and Disorders of the \",\"\",inplace=True,regex=True);\n",
    "agg_age_diag.MDC.replace(\"Diseases and Disorders of \",\"\",inplace=True,regex=True);"
   ]
  },
  {
   "cell_type": "code",
   "execution_count": 25,
   "metadata": {},
   "outputs": [],
   "source": [
    "# export to .csv to laod into litvis\n",
    "agg_age_diag.to_csv('NY_Hospital_Diagnosis_Age.csv', index=False);"
   ]
  },
  {
   "cell_type": "markdown",
   "metadata": {},
   "source": [
    "### 3) Length of Stay and Age Group"
   ]
  },
  {
   "cell_type": "code",
   "execution_count": 26,
   "metadata": {},
   "outputs": [],
   "source": [
    "# Replace 120 + with 120 in LOS so can covert to numeric\n",
    "ny_hospital_df.LOS.replace('120 +','120',inplace=True);"
   ]
  },
  {
   "cell_type": "code",
   "execution_count": 27,
   "metadata": {},
   "outputs": [],
   "source": [
    "# Change LOS to numeric\n",
    "ny_hospital_df.LOS = pd.to_numeric(ny_hospital_df.LOS)"
   ]
  },
  {
   "cell_type": "code",
   "execution_count": 28,
   "metadata": {},
   "outputs": [],
   "source": [
    "# create dataframe of just region and type of admission\n",
    "age_LOS_df = ny_hospital_df.loc[:,['ageGroup', 'LOS']];"
   ]
  },
  {
   "cell_type": "code",
   "execution_count": 29,
   "metadata": {},
   "outputs": [],
   "source": [
    "# Add index as id column\n",
    "age_LOS_df['id']=ny_hospital_df.index;"
   ]
  },
  {
   "cell_type": "code",
   "execution_count": 30,
   "metadata": {},
   "outputs": [
    {
     "name": "stderr",
     "output_type": "stream",
     "text": [
      "C:\\Users\\Lesley\\Anaconda3\\lib\\site-packages\\pandas\\core\\indexing.py:189: SettingWithCopyWarning: \n",
      "A value is trying to be set on a copy of a slice from a DataFrame\n",
      "\n",
      "See the caveats in the documentation: http://pandas.pydata.org/pandas-docs/stable/indexing.html#indexing-view-versus-copy\n",
      "  self._setitem_with_indexer(indexer, value)\n"
     ]
    }
   ],
   "source": [
    "# Impute everything 30 and higher to 30\n",
    "age_LOS_df['LOS'].loc[age_LOS_df['LOS']>=30]=30"
   ]
  },
  {
   "cell_type": "code",
   "execution_count": 31,
   "metadata": {},
   "outputs": [],
   "source": [
    "# aggregate\n",
    "agg_age_LOS = age_LOS_df.groupby(['ageGroup', 'LOS'])['id'].size().reset_index()\n",
    "agg_age_LOS.rename(columns={'id':'count'}, inplace=True);"
   ]
  },
  {
   "cell_type": "code",
   "execution_count": 32,
   "metadata": {},
   "outputs": [],
   "source": [
    "# export to .csv to laod into litvis\n",
    "agg_age_LOS.to_csv('NY_Hospital_LOS_Age.csv', index=False);"
   ]
  },
  {
   "cell_type": "markdown",
   "metadata": {},
   "source": [
    "### 4) Charges, Payment Type and Age Group"
   ]
  },
  {
   "cell_type": "code",
   "execution_count": 33,
   "metadata": {},
   "outputs": [],
   "source": [
    "# remove commas from Charges field so can covert to numeric\n",
    "ny_hospital_df.charges.replace('[,]','',inplace=True,regex=True);"
   ]
  },
  {
   "cell_type": "code",
   "execution_count": 34,
   "metadata": {},
   "outputs": [],
   "source": [
    "# convert Charges field to numeric\n",
    "ny_hospital_df.charges = pd.to_numeric(ny_hospital_df.charges);"
   ]
  },
  {
   "cell_type": "code",
   "execution_count": 35,
   "metadata": {},
   "outputs": [],
   "source": [
    "# create dataframe of just charges, payment and age group\n",
    "age_cost_df = ny_hospital_df.loc[:,['ageGroup', 'payment1','charges']];"
   ]
  },
  {
   "cell_type": "code",
   "execution_count": 36,
   "metadata": {},
   "outputs": [],
   "source": [
    "# aggregate\n",
    "agg_age_cost = age_cost_df.groupby(['ageGroup','payment1']).aggregate({'charges':np.median}).reset_index()"
   ]
  },
  {
   "cell_type": "code",
   "execution_count": 37,
   "metadata": {},
   "outputs": [],
   "source": [
    "# export to .csv to laod into litvis\n",
    "agg_age_cost.to_csv('NY_Hospital_Charges_PT_Age.csv', index=False);"
   ]
  }
 ],
 "metadata": {
  "kernelspec": {
   "display_name": "Python 3",
   "language": "python",
   "name": "python3"
  },
  "language_info": {
   "codemirror_mode": {
    "name": "ipython",
    "version": 3
   },
   "file_extension": ".py",
   "mimetype": "text/x-python",
   "name": "python",
   "nbconvert_exporter": "python",
   "pygments_lexer": "ipython3",
   "version": "3.6.5"
  }
 },
 "nbformat": 4,
 "nbformat_minor": 2
}
